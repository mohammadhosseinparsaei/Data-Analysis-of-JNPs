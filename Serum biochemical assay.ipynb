{
 "cells": [
  {
   "cell_type": "markdown",
   "metadata": {},
   "source": [
    "# Serum biochemical assay"
   ]
  },
  {
   "cell_type": "markdown",
   "metadata": {},
   "source": [
    "##### Load the CSV file into a DataFrame and reading the data"
   ]
  },
  {
   "cell_type": "code",
   "execution_count": null,
   "metadata": {},
   "outputs": [],
   "source": [
    "import pandas as pd\n",
    "\n",
    "df = pd.read_csv(\"Serum biochemical assay.csv\")\n",
    "df"
   ]
  },
  {
   "cell_type": "markdown",
   "metadata": {},
   "source": [
    "##### Data analysis"
   ]
  },
  {
   "cell_type": "code",
   "execution_count": null,
   "metadata": {},
   "outputs": [],
   "source": [
    "from scipy.stats import mannwhitneyu\n",
    "\n",
    "control_ast = list(df.iloc[0, 1:4].values)\n",
    "np_ast = list(df.iloc[0, 4:7].values)\n",
    "\n",
    "control_alt = list(df.iloc[1, 1:4].values)\n",
    "np_alt = list(df.iloc[1, 4:7].values)\n",
    "\n",
    "control_alp = list(df.iloc[2, 1:4].values)\n",
    "np_alp = list(df.iloc[2, 4:7].values)\n",
    "\n",
    "# Perform Mann-Whitney U test for AST\n",
    "mwtest_ast = mannwhitneyu(control_ast, np_ast, alternative='two-sided')\n",
    "\n",
    "# Perform Mann-Whitney U test for ALT\n",
    "mwtest_alt = mannwhitneyu(control_alt, np_alt, alternative='two-sided')\n",
    "\n",
    "# Perform Mann-Whitney U test for ALP\n",
    "mwtest_alp = mannwhitneyu(control_alp, np_alp, alternative='two-sided')\n",
    "\n",
    "# Print the results\n",
    "print(\"Mann-Whitney Test Results:\")\n",
    "print(\"AST:\")\n",
    "print(\"  p-value:\", mwtest_ast[1])\n",
    "print(\"ALT:\")\n",
    "print(\"  p-value:\", mwtest_alt[1])\n",
    "print(\"ALP:\")\n",
    "print(\"  p-value:\", mwtest_alp[1])"
   ]
  },
  {
   "cell_type": "markdown",
   "metadata": {},
   "source": [
    "##### Plot the results"
   ]
  },
  {
   "cell_type": "code",
   "execution_count": null,
   "metadata": {},
   "outputs": [],
   "source": [
    "import numpy as np\n",
    "import matplotlib.pyplot as plt\n",
    "from scipy.stats import sem\n",
    "\n",
    "X1 = np.array([1, 3, 5, 21, 23, 25, 41, 43, 45])\n",
    "X2 = np.array([9, 11, 13, 29, 31, 33, 49, 51, 53])\n",
    "means = np.array([7, 27, 47])\n",
    "y1 = np.vstack((np.array(control_ast), np.array(control_alt), np.array(control_alp))).reshape(-1,)\n",
    "y2 = np.vstack((np.array(np_ast), np.array(np_alt), np.array(np_alp))).reshape(-1,)\n",
    "xx = np.array([3, 11, 23, 31, 43, 51])\n",
    "yy = np.array([np.array(control_ast).mean(), np.array(np_ast).mean(), np.array(control_alt).mean(),\n",
    "               np.array(np_alt).mean(), np.array(control_alp).mean(), np.array(np_alp).mean()])\n",
    "error = np.array([sem(np.array(control_ast)), sem(np.array(np_ast)), sem(np.array(control_alt)),\n",
    "                  sem(np.array(np_alt)), sem(np.array(control_alp)), sem(np.array(np_alp))])\n",
    "\n",
    "fig, ax = plt.subplots(figsize=(9, 8))\n",
    "ax.xaxis.set_tick_params(width=2)\n",
    "ax.xaxis.set_major_locator(plt.MultipleLocator(20))\n",
    "ax.yaxis.set_major_locator(plt.MultipleLocator(200))\n",
    "ax.scatter(X1, y1, marker='o', s=250, color='royalblue', label='Control')\n",
    "ax.scatter(X2, y2, marker='^', s=250, color='lightcoral', label='JNPs')\n",
    "ax.errorbar(xx, yy, error, linestyle='None', marker='_', color='k', markersize=36, capsize=8, elinewidth=2, capthick=2)\n",
    "ax.errorbar(xx, yy, error, linestyle='None', marker='_', color='k', markersize=36, capsize=8, elinewidth=2, capthick=2,\n",
    "             zorder=5, linewidth=4, markeredgewidth=2)\n",
    "ax.set_xticks(means)\n",
    "ax.set_xticklabels(['S.G.O.T (AST)', 'S.G.P.T (ALT)', 'Alkaline phosphatase (ALP)'],\n",
    "                   rotation=45, ha='right', rotation_mode='anchor')\n",
    "ax.spines[['right', 'top']].set_visible(False)\n",
    "ax.set_ylabel('Liver enzymes level (U/L)', fontweight='bold', fontsize=22, fontfamily='Arial')\n",
    "ax.legend(loc='upper left', frameon=False, bbox_to_anchor=(1.1, 1), prop={'size': 20})\n",
    "ax.tick_params(axis='both', labelsize=22)\n",
    "ax.set_xticklabels(['S.G.O.T (AST)', 'S.G.P.T (ALT)', 'Alkaline phosphatase (ALP)'],\n",
    "                   rotation=45, rotation_mode='anchor', ha='right', fontweight='bold', fontsize=22, fontfamily='Arial')\n",
    "ax.xaxis.set_tick_params(width=4, size=10)\n",
    "ax.yaxis.set_tick_params(width=4, size=10)\n",
    "ax.set_yticks([0, 200, 400, 600])\n",
    "ax.yaxis.set_tick_params(width=4, size=10)\n",
    "ax.set_ylim(bottom=0, top=600)\n",
    "ax.xaxis.set_tick_params(width=4, length=15)\n",
    "ax.yaxis.set_tick_params(width=4, length=15)\n",
    "ax.spines['left'].set_linewidth(4)\n",
    "ax.spines['bottom'].set_linewidth(4)\n",
    "ax.set_yticklabels(ax.get_yticks(), fontweight='bold')\n",
    "plt.savefig('Serum_biochemical_assay_graph.tif', dpi=600, format='tif', bbox_inches='tight')\n",
    "plt.show()"
   ]
  }
 ],
 "metadata": {
  "kernelspec": {
   "display_name": "Python 3",
   "language": "python",
   "name": "python3"
  },
  "language_info": {
   "codemirror_mode": {
    "name": "ipython",
    "version": 3
   },
   "file_extension": ".py",
   "mimetype": "text/x-python",
   "name": "python",
   "nbconvert_exporter": "python",
   "pygments_lexer": "ipython3",
   "version": "3.11.7"
  }
 },
 "nbformat": 4,
 "nbformat_minor": 2
}
