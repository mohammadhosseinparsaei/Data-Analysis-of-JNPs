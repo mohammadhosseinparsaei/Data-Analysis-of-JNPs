{
 "cells": [
  {
   "cell_type": "markdown",
   "metadata": {},
   "source": [
    "# Cellular internalization"
   ]
  },
  {
   "cell_type": "markdown",
   "metadata": {},
   "source": [
    "##### Load the CSV file into a DataFrame and reading the data"
   ]
  },
  {
   "cell_type": "code",
   "execution_count": null,
   "metadata": {},
   "outputs": [],
   "source": [
    "import pandas as pd\n",
    "\n",
    "df = pd.read_csv(\"Cellular internalization.csv\")\n",
    "df"
   ]
  },
  {
   "cell_type": "markdown",
   "metadata": {},
   "source": [
    "##### Data analysis (Fe)"
   ]
  },
  {
   "cell_type": "code",
   "execution_count": null,
   "metadata": {},
   "outputs": [],
   "source": [
    "import statsmodels.api as sm\n",
    "from statsmodels.formula.api import ols\n",
    "from statsmodels.stats.multicomp import pairwise_tukeyhsd\n",
    "\n",
    "dataFe = {\n",
    "    'Nanoparticle concentration(µg/ml)': df['Nanoparticle concentration(µg/ml)'],\n",
    "    'A_Fe': df.iloc[0, 1:4].values,\n",
    "    'B_Fe': df.iloc[1, 1:4].values,\n",
    "    'C_Fe': df.iloc[2, 1:4].values,\n",
    "    'D_Fe': df.iloc[3, 1:4].values\n",
    "}\n",
    "\n",
    "rows = []\n",
    "for conc, values in zip(dataFe['Nanoparticle concentration(µg/ml)'], zip(dataFe['A_Fe'], dataFe['B_Fe'], dataFe['C_Fe'], dataFe['D_Fe'])):\n",
    "    for group, value in zip(['A_Fe', 'B_Fe', 'C_Fe', 'D_Fe'], values):\n",
    "        rows.append({\n",
    "            'Nanoparticle concentration(µg/ml)': conc,\n",
    "            'Group': group,\n",
    "            'Values': value\n",
    "        })\n",
    "\n",
    "df_Fe = pd.DataFrame(rows)\n",
    "\n",
    "# One-way ANOVA\n",
    "model = ols('Values ~ C(Group)', data=df_Fe).fit()\n",
    "\n",
    "anova_table = sm.stats.anova_lm(model, typ=1)\n",
    "print(\"ANOVA Table:\")\n",
    "print(anova_table)\n",
    "\n",
    "# Tukey's test\n",
    "tukey = pairwise_tukeyhsd(endog=df_Fe['Values'], groups=df_Fe['Group'], alpha=0.05)\n",
    "print(\"\\nTukey's HSD Test:\")\n",
    "print(tukey)"
   ]
  },
  {
   "cell_type": "markdown",
   "metadata": {},
   "source": [
    "##### Data analysis (Au)"
   ]
  },
  {
   "cell_type": "code",
   "execution_count": null,
   "metadata": {},
   "outputs": [],
   "source": [
    "import statsmodels.api as sm\n",
    "from statsmodels.formula.api import ols\n",
    "from statsmodels.stats.multicomp import pairwise_tukeyhsd\n",
    "\n",
    "# Extract the data\n",
    "dataAu = {\n",
    "    'Nanoparticle concentration(µg/ml)': df['Nanoparticle concentration(µg/ml)'],\n",
    "    'A_Au': df.iloc[0, 4:7].values,\n",
    "    'B_Au': df.iloc[1, 4:7].values,\n",
    "    'C_Au': df.iloc[2, 4:7].values,\n",
    "    'D_Au': df.iloc[3, 4:7].values\n",
    "}\n",
    "\n",
    "rows = []\n",
    "for conc, values in zip(dataAu['Nanoparticle concentration(µg/ml)'], zip(dataAu['A_Au'], dataAu['B_Au'], dataAu['C_Au'], dataAu['D_Au'])):\n",
    "    for group, value in zip(['A_Au', 'B_Au', 'C_Au', 'D_Au'], values):\n",
    "        rows.append({\n",
    "            'Nanoparticle concentration(µg/ml)': conc,\n",
    "            'Group': group,\n",
    "            'Values': value\n",
    "        })\n",
    "\n",
    "df_Au = pd.DataFrame(rows)\n",
    "\n",
    "# One-way ANOVA\n",
    "model = ols('Values ~ C(Group)', data=df_Au).fit()\n",
    "\n",
    "anova_table = sm.stats.anova_lm(model, typ=1)\n",
    "print(\"ANOVA Table:\")\n",
    "print(anova_table)\n",
    "\n",
    "# Tukey's test\n",
    "tukey = pairwise_tukeyhsd(endog=df_Au['Values'], groups=df_Au['Group'], alpha=0.05)\n",
    "print(\"\\nTukey's HSD Test:\")\n",
    "print(tukey)"
   ]
  },
  {
   "cell_type": "markdown",
   "metadata": {},
   "source": [
    "##### Plot the results"
   ]
  },
  {
   "cell_type": "code",
   "execution_count": null,
   "metadata": {},
   "outputs": [],
   "source": [
    "import numpy as np\n",
    "import pandas as pd\n",
    "import matplotlib.pyplot as plt\n",
    "import matplotlib.patheffects as path_effects\n",
    "from comparison import pairwise_comparison\n",
    "\n",
    "df['Mean_FeCon'] = df[['Fe concentration per cell1(pg)', 'Fe concentration per cell2(pg)', 'Fe concentration per cell3(pg)']].mean(axis=1)\n",
    "df['Mean_AuCon'] = df[['Au concentration per cell1(pg)', 'Au concentration per cell2(pg)', 'Au concentration per cell3(pg)']].mean(axis=1)\n",
    "\n",
    "df['SEM_Fe'] = df[['Fe concentration per cell1(pg)', 'Fe concentration per cell2(pg)', 'Fe concentration per cell3(pg)']].sem(axis=1)\n",
    "df['SEM_Au'] = df[['Au concentration per cell1(pg)', 'Au concentration per cell2(pg)', 'Au concentration per cell3(pg)']].sem(axis=1)\n",
    "\n",
    "plt.figure(figsize=(10, 7))\n",
    "space_between_bars = 0.175\n",
    "bar_width = 0.25\n",
    "x_ticks = np.arange(len(df))\n",
    "\n",
    "plt.bar(x_ticks - space_between_bars, df['Mean_FeCon'], width=bar_width, color='gray', edgecolor='black', linewidth=3.5, label='Fe')\n",
    "plt.bar(x_ticks + space_between_bars, df['Mean_AuCon'], width=bar_width, color='yellow', edgecolor='olive', linewidth=3.5, label='Au')\n",
    "\n",
    "errorbar_Fe = plt.errorbar(x_ticks - space_between_bars, df['Mean_FeCon'], yerr=df['SEM_Fe'], capsize=8, color='black', ecolor='black', markersize=0, fmt='_', elinewidth=3)\n",
    "errorbar_Au = plt.errorbar(x_ticks + space_between_bars, df['Mean_AuCon'], yerr=df['SEM_Au'], capsize=8, color='olive', ecolor='olive', markersize=0, fmt='_', elinewidth=3)\n",
    "\n",
    "for cap in errorbar_Fe[1]:\n",
    "    cap.set_markeredgewidth(2)\n",
    "    cap.set_path_effects([path_effects.Stroke(linewidth=2), path_effects.Normal()])\n",
    "for cap in errorbar_Au[1]:\n",
    "    cap.set_markeredgewidth(2)\n",
    "    cap.set_path_effects([path_effects.Stroke(linewidth=2), path_effects.Normal()])\n",
    "\n",
    "font_properties = {'fontweight': 'bold', 'fontsize': 20, 'fontfamily': 'Arial'}\n",
    "number_font_properties = {'fontweight': 'bold', 'fontsize': 20, 'fontfamily': 'Arial'}\n",
    "legend_font_properties = {'size': 20, 'family': 'Arial'}\n",
    "\n",
    "plt.xlabel('Nanoparticle concentration (µg/ml)', **font_properties)\n",
    "plt.ylabel('Concentration per cell (pg)', **font_properties)\n",
    "plt.xticks(x_ticks, df['Nanoparticle concentration(µg/ml)'], ha='center', **number_font_properties)\n",
    "plt.yticks([0, 50, 100, 150], **number_font_properties)\n",
    "plt.legend()\n",
    "\n",
    "plt.tick_params(axis='both', which='both', length=15, width=3, labelsize=20)\n",
    "\n",
    "ax = plt.gca()\n",
    "ax.spines['left'].set_linewidth(3)\n",
    "ax.spines['bottom'].set_linewidth(3)\n",
    "ax.spines['top'].set_visible(False)\n",
    "ax.spines['right'].set_visible(False)\n",
    "\n",
    "pairwise_comparison(0, 1, 0.009, x_ticks-0.175, df['Mean_FeCon'].tolist(), yerr=df['SEM_Fe'].tolist(), barh=0.02, fs=18, bold=True, line_width=2)\n",
    "pairwise_comparison(1, 2, 0.0001, x_ticks-0.175, df['Mean_FeCon'].tolist(), yerr=df['SEM_Fe'].tolist(), barh=0.02, fs=18, bold=True, line_width=2)\n",
    "pairwise_comparison(2, 3, 0, x_ticks-0.175, df['Mean_FeCon'].tolist(), yerr=df['SEM_Fe'].tolist(), barh=0.02, fs=18, bold=True, line_width=2)\n",
    "\n",
    "plt.ylim(bottom=0, top=150)\n",
    "plt.legend(loc='upper left', bbox_to_anchor=(1.1, 1), prop=legend_font_properties, frameon=False)\n",
    "plt.savefig('Cellular_internalization_graph.tif', dpi=600, format='tif', bbox_inches='tight')\n",
    "plt.show()"
   ]
  }
 ],
 "metadata": {
  "kernelspec": {
   "display_name": "Python 3",
   "language": "python",
   "name": "python3"
  },
  "language_info": {
   "codemirror_mode": {
    "name": "ipython",
    "version": 3
   },
   "file_extension": ".py",
   "mimetype": "text/x-python",
   "name": "python",
   "nbconvert_exporter": "python",
   "pygments_lexer": "ipython3",
   "version": "3.11.7"
  }
 },
 "nbformat": 4,
 "nbformat_minor": 2
}
