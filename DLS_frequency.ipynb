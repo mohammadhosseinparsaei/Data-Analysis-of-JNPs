{
 "cells": [
  {
   "cell_type": "markdown",
   "metadata": {},
   "source": [
    "# DLS frequency plot"
   ]
  },
  {
   "cell_type": "markdown",
   "metadata": {},
   "source": [
    "### Import the library"
   ]
  },
  {
   "cell_type": "code",
   "execution_count": null,
   "metadata": {},
   "outputs": [],
   "source": [
    "import matplotlib.pyplot as plt\n",
    "import numpy as np"
   ]
  },
  {
   "cell_type": "markdown",
   "metadata": {},
   "source": [
    "### Read data from the file"
   ]
  },
  {
   "cell_type": "code",
   "execution_count": null,
   "metadata": {},
   "outputs": [],
   "source": [
    "with open('202302031519089.txt', 'r', encoding='latin-1') as file:\n",
    "    start_reading = False\n",
    "    diameter_data = []\n",
    "    frequency_data = []\n",
    "    for line in file:\n",
    "        if \"Diameter (nm),Frequency (%),Undersize (%)\" in line:\n",
    "            start_reading = True\n",
    "            continue\n",
    "        if start_reading:\n",
    "            data = line.strip().split(',')\n",
    "            if len(data) == 3:\n",
    "                diameter = float(data[0])\n",
    "                frequency = float(data[1])\n",
    "                diameter_data.append(diameter)\n",
    "                frequency_data.append(frequency)\n",
    "            else:\n",
    "                if not any(c.isdigit() for c in line):\n",
    "                    break"
   ]
  },
  {
   "cell_type": "markdown",
   "metadata": {},
   "source": [
    "### Convert data to numpy arrays"
   ]
  },
  {
   "cell_type": "code",
   "execution_count": null,
   "metadata": {},
   "outputs": [],
   "source": [
    "diameter_data = np.array(diameter_data)\n",
    "frequency_data = np.array(frequency_data)"
   ]
  },
  {
   "cell_type": "markdown",
   "metadata": {},
   "source": [
    "### Plot the result"
   ]
  },
  {
   "cell_type": "code",
   "execution_count": null,
   "metadata": {},
   "outputs": [],
   "source": [
    "plt.figure(figsize=(6, 3))\n",
    "plt.semilogx(diameter_data, frequency_data)\n",
    "plt.xlabel('Diameter (nm)')\n",
    "plt.ylabel('Frequency (%)')\n",
    "plt.xlim(0.1, 10000)\n",
    "plt.ylim(0, 5)\n",
    "plt.xticks([0.1, 1, 10, 100, 1000, 10000], ['0.1', '1', '10', '100', '1000', '10000'])\n",
    "plt.grid(True, which='both')\n",
    "plt.savefig('DLS_frequency_graph.tif', dpi=600, format='tif', bbox_inches='tight')\n",
    "plt.show()"
   ]
  }
 ],
 "metadata": {
  "kernelspec": {
   "display_name": "base",
   "language": "python",
   "name": "python3"
  },
  "language_info": {
   "codemirror_mode": {
    "name": "ipython",
    "version": 3
   },
   "file_extension": ".py",
   "mimetype": "text/x-python",
   "name": "python",
   "nbconvert_exporter": "python",
   "pygments_lexer": "ipython3",
   "version": "3.11.7"
  }
 },
 "nbformat": 4,
 "nbformat_minor": 2
}
