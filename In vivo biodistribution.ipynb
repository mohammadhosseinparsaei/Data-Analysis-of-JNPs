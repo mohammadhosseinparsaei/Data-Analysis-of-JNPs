{
 "cells": [
  {
   "cell_type": "markdown",
   "metadata": {},
   "source": [
    "# In vivo biodistribution"
   ]
  },
  {
   "cell_type": "markdown",
   "metadata": {},
   "source": [
    "##### Load the CSV file into a DataFrame and reading the data"
   ]
  },
  {
   "cell_type": "code",
   "execution_count": null,
   "metadata": {},
   "outputs": [],
   "source": [
    "import pandas as pd\n",
    "\n",
    "df = pd.read_csv(\"In vivo biodistribution.csv\")\n",
    "df"
   ]
  },
  {
   "cell_type": "markdown",
   "metadata": {},
   "source": [
    "##### Data analysis (Fe)"
   ]
  },
  {
   "cell_type": "code",
   "execution_count": null,
   "metadata": {},
   "outputs": [],
   "source": [
    "import statsmodels.api as sm\n",
    "from statsmodels.formula.api import ols\n",
    "from statsmodels.stats.multicomp import pairwise_tukeyhsd\n",
    "\n",
    "dataFe = {\n",
    "    'Organ': df['Organ'],\n",
    "    'Heart_Fe': df.iloc[0, 1:4].values,\n",
    "    'Right lung_Fe': df.iloc[1, 1:4].values,\n",
    "    'Left lung_Fe': df.iloc[2, 1:4].values,\n",
    "    'Spleen_Fe': df.iloc[3, 1:4].values,\n",
    "    'Liver_Fe': df.iloc[4, 1:4].values,\n",
    "    'Right kidney_Fe': df.iloc[5, 1:4].values,\n",
    "    'Left kidney_Fe': df.iloc[6, 1:4].values,\n",
    "    'Tumor_Fe': df.iloc[7, 1:4].values\n",
    "}\n",
    "\n",
    "rows = []\n",
    "for conc, values in zip(dataFe['Organ'], zip(dataFe['Heart_Fe'], dataFe['Right lung_Fe'], dataFe['Left lung_Fe'], dataFe['Spleen_Fe'], dataFe['Liver_Fe'], dataFe['Right kidney_Fe'], dataFe['Left kidney_Fe'], dataFe['Tumor_Fe'])):\n",
    "    for group, value in zip(['Heart_Fe', 'Right lung_Fe', 'Left lung_Fe', 'Spleen_Fe', 'Liver_Fe', 'Right kidney_Fe', 'Left kidney_Fe', 'Tumor_Fe'], values):\n",
    "        rows.append({\n",
    "            'Organ': conc,\n",
    "            'Group': group,\n",
    "            'Values': value\n",
    "        })\n",
    "\n",
    "df_Fe = pd.DataFrame(rows)\n",
    "\n",
    "# One-way ANOVA\n",
    "model = ols('Values ~ C(Group)', data=df_Fe).fit()\n",
    "\n",
    "anova_table = sm.stats.anova_lm(model, typ=1)\n",
    "print(\"ANOVA Table:\")\n",
    "print(anova_table)\n",
    "\n",
    "# Tukey's test\n",
    "tukey = pairwise_tukeyhsd(endog=df_Fe['Values'], groups=df_Fe['Group'], alpha=0.05)\n",
    "print(\"\\nTukey's HSD Test:\")\n",
    "print(tukey)"
   ]
  },
  {
   "cell_type": "markdown",
   "metadata": {},
   "source": [
    "##### Data analysis (Au)"
   ]
  },
  {
   "cell_type": "code",
   "execution_count": null,
   "metadata": {},
   "outputs": [],
   "source": [
    "import statsmodels.api as sm\n",
    "from statsmodels.formula.api import ols\n",
    "from statsmodels.stats.multicomp import pairwise_tukeyhsd\n",
    "\n",
    "dataAu = {\n",
    "    'Organ': df['Organ'],\n",
    "    'Heart_Au': df.iloc[0, 4:7].values,\n",
    "    'Right lung_Au': df.iloc[1, 4:7].values,\n",
    "    'Left lung_Au': df.iloc[2, 4:7].values,\n",
    "    'Spleen_Au': df.iloc[3, 4:7].values,\n",
    "    'Liver_Au': df.iloc[4, 4:7].values,\n",
    "    'Right kidney_Au': df.iloc[5, 4:7].values,\n",
    "    'Left kidney_Au': df.iloc[6, 4:7].values,\n",
    "    'Tumor_Au': df.iloc[7, 4:7].values\n",
    "}\n",
    "\n",
    "rows = []\n",
    "for conc, values in zip(dataAu['Organ'], zip(dataAu['Heart_Au'], dataAu['Right lung_Au'], dataAu['Left lung_Au'], dataAu['Spleen_Au'], dataAu['Liver_Au'], dataAu['Right kidney_Au'], dataAu['Left kidney_Au'], dataAu['Tumor_Au'])):\n",
    "    for group, value in zip(['Heart_Au', 'Right lung_Au', 'Left lung_Au', 'Spleen_Au', 'Liver_Au', 'Right kidney_Au', 'Left kidney_Au', 'Tumor_Au'], values):\n",
    "        rows.append({\n",
    "            'Organ': conc,\n",
    "            'Group': group,\n",
    "            'Values': value\n",
    "        })\n",
    "\n",
    "df_Au = pd.DataFrame(rows)\n",
    "\n",
    "# One-way ANOVA\n",
    "model = ols('Values ~ C(Group)', data=df_Au).fit()\n",
    "\n",
    "anova_table = sm.stats.anova_lm(model, typ=1)\n",
    "print(\"ANOVA Table:\")\n",
    "print(anova_table)\n",
    "\n",
    "# Tukey's test\n",
    "tukey = pairwise_tukeyhsd(endog=df_Au['Values'], groups=df_Au['Group'], alpha=0.05)\n",
    "print(\"\\nTukey's HSD Test:\")\n",
    "print(tukey)"
   ]
  },
  {
   "cell_type": "markdown",
   "metadata": {},
   "source": [
    "##### Plot the results"
   ]
  },
  {
   "cell_type": "code",
   "execution_count": null,
   "metadata": {},
   "outputs": [],
   "source": [
    "import numpy as np\n",
    "import pandas as pd\n",
    "import matplotlib.pyplot as plt\n",
    "import matplotlib.patheffects as path_effects\n",
    "from comparison import pairwise_comparison\n",
    "\n",
    "df['Mean_FeCon'] = df[['Fe concentration/tissue1(µg/g)', 'Fe concentration/tissue2(µg/g)', 'Fe concentration/tissue3(µg/g)']].mean(axis=1)\n",
    "df['Mean_AuCon'] = df[['Au concentration/tissue1(µg/g)', 'Au concentration/tissue2(µg/g)', 'Au concentration/tissue3(µg/g)']].mean(axis=1)\n",
    "\n",
    "df['SEM_Fe'] = df[['Fe concentration/tissue1(µg/g)', 'Fe concentration/tissue2(µg/g)', 'Fe concentration/tissue3(µg/g)']].sem(axis=1)\n",
    "df['SEM_Au'] = df[['Au concentration/tissue1(µg/g)', 'Au concentration/tissue2(µg/g)', 'Au concentration/tissue3(µg/g)']].sem(axis=1)\n",
    "\n",
    "plt.figure(figsize=(12, 9))\n",
    "space_between_bars = 0.4\n",
    "bar_width = 0.3\n",
    "x_ticks = np.arange(len(df))\n",
    "\n",
    "plt.bar(np.arange(len(df)) - space_between_bars/2, df['Mean_FeCon'], width=bar_width, color='salmon', edgecolor='maroon', linewidth=4, label='Fe')\n",
    "\n",
    "plt.bar(np.arange(len(df)) + space_between_bars/2, df['Mean_AuCon'], width=bar_width, color='khaki', edgecolor='saddlebrown', linewidth=4, label='Au')\n",
    "\n",
    "errorbar_caps_Fe = plt.errorbar(np.arange(len(df)) - space_between_bars/2, df['Mean_FeCon'], yerr=df['SEM_Fe'], capsize=6, color='maroon', ecolor='maroon', markersize=0, fmt='_', elinewidth=3)\n",
    "\n",
    "errorbar_caps_Au = plt.errorbar(np.arange(len(df)) + space_between_bars/2, df['Mean_AuCon'], yerr=df['SEM_Au'], capsize=6, color='saddlebrown', ecolor='saddlebrown', markersize=0, fmt='_', elinewidth=3)\n",
    "\n",
    "for cap in errorbar_caps_Fe[1]:\n",
    "    cap.set_markeredgewidth(2)\n",
    "    cap.set_path_effects([path_effects.Stroke(linewidth=2), path_effects.Normal()])\n",
    "for cap in errorbar_caps_Au[1]:\n",
    "    cap.set_markeredgewidth(2)\n",
    "    cap.set_path_effects([path_effects.Stroke(linewidth=2), path_effects.Normal()])\n",
    "\n",
    "font_properties = {'fontweight': 'bold', 'fontsize': 25, 'fontfamily': 'Arial'}\n",
    "number_font_properties = {'fontweight': 'bold', 'fontsize': 25, 'fontfamily': 'Arial'}\n",
    "legend_font_properties = {'size': 25, 'family': 'Arial'}\n",
    "\n",
    "plt.ylabel('Concentration/tissue (µg/g)', **font_properties)\n",
    "plt.xticks(x_ticks, df['Organ'], rotation=45, rotation_mode='anchor', ha='right', **number_font_properties)\n",
    "plt.yticks([0, 10, 20, 30, 40, 50], **number_font_properties)\n",
    "plt.legend()\n",
    "\n",
    "plt.tick_params(axis='both', which='both', length=15, width=3.5, labelsize=25)\n",
    "\n",
    "ax = plt.gca()\n",
    "ax.spines['left'].set_linewidth(3.5)\n",
    "ax.spines['bottom'].set_linewidth(3.5)\n",
    "ax.spines['top'].set_visible(False)\n",
    "ax.spines['right'].set_visible(False)\n",
    "\n",
    "pairwise_comparison(0, 3, 0, x_ticks, df['Mean_AuCon'].tolist(), yerr=df['SEM_Au'].tolist(), dh=0.15, barh=0.02, fs=22, bold=True, line_width=2)\n",
    "pairwise_comparison(1, 4, 0.0002, x_ticks, df['Mean_AuCon'].tolist(), yerr=df['SEM_Au'].tolist(), dh=0.5, barh=0.02, fs=22, bold=True, line_width=2)\n",
    "pairwise_comparison(4, 6, 0.0016, x_ticks, df['Mean_AuCon'].tolist(), yerr=df['SEM_Au'].tolist(), dh=0.15, barh=0.02, fs=22, bold=True, line_width=2)\n",
    "pairwise_comparison(2, 7, 0.0311, x_ticks, df['Mean_AuCon'].tolist(), yerr=df['SEM_Au'].tolist(), dh=0.76, barh=0.02, fs=22, bold=True, line_width=2)\n",
    "\n",
    "plt.ylim(bottom=0, top=50)\n",
    "plt.legend(loc='upper left', bbox_to_anchor=(1.1, 1), prop=legend_font_properties, frameon=False)\n",
    "plt.savefig('In_vivo_biodistribution_graph.tif', dpi=600, format='tif', bbox_inches='tight')\n",
    "plt.show()"
   ]
  }
 ],
 "metadata": {
  "kernelspec": {
   "display_name": "Python 3",
   "language": "python",
   "name": "python3"
  },
  "language_info": {
   "codemirror_mode": {
    "name": "ipython",
    "version": 3
   },
   "file_extension": ".py",
   "mimetype": "text/x-python",
   "name": "python",
   "nbconvert_exporter": "python",
   "pygments_lexer": "ipython3",
   "version": "3.11.7"
  }
 },
 "nbformat": 4,
 "nbformat_minor": 2
}
