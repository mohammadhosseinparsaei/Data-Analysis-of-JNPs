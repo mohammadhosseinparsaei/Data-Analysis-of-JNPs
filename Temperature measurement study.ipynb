{
 "cells": [
  {
   "cell_type": "markdown",
   "metadata": {},
   "source": [
    "# Temperature measurement study"
   ]
  },
  {
   "cell_type": "markdown",
   "metadata": {},
   "source": [
    "##### Load the CSV file into a DataFrame and reading the data"
   ]
  },
  {
   "cell_type": "code",
   "execution_count": null,
   "metadata": {},
   "outputs": [],
   "source": [
    "import pandas as pd\n",
    "\n",
    "df = pd.read_csv(\"Temperature measurement study.csv\")\n",
    "df"
   ]
  },
  {
   "cell_type": "markdown",
   "metadata": {},
   "source": [
    "##### Plot the results"
   ]
  },
  {
   "cell_type": "code",
   "execution_count": null,
   "metadata": {},
   "outputs": [],
   "source": [
    "import numpy as np\n",
    "import pandas as pd\n",
    "import matplotlib.pyplot as plt\n",
    "import matplotlib.patheffects as path_effects\n",
    "\n",
    "# Calculate means and SEMs\n",
    "mean_cols = ['Mean_AMF', 'Mean_NIR', 'Mean_JNPs+MF+AMF', 'Mean_JNPs+MF+NIR', 'Mean_PMT', 'Mean_JNPs+MF+PMT']\n",
    "sem_cols = ['SEM_AMF', 'SEM_NIR', 'SEM_JNPs+MF+AMF', 'SEM_JNPs+MF+NIR', 'SEM_PMT', 'SEM_JNPs+MF+PMT']\n",
    "temp_cols = [\n",
    "    ['AMF1(°C)', 'AMF2(°C)', 'AMF3(°C)'],\n",
    "    ['NIR1(°C)', 'NIR2(°C)', 'NIR3(°C)'],\n",
    "    ['JNPs+MF+AMF1(°C)', 'JNPs+MF+AMF2(°C)', 'JNPs+MF+AMF3(°C)'],\n",
    "    ['JNPs+MF+NIR1(°C)', 'JNPs+MF+NIR2(°C)', 'JNPs+MF+NIR3(°C)'],\n",
    "    ['PMT1(°C)', 'PMT2(°C)', 'PMT3(°C)'],\n",
    "    ['JNPs+MF+PMT1(°C)', 'JNPs+MF+PMT2(°C)', 'JNPs+MF+PMT3(°C)']\n",
    "]\n",
    "\n",
    "for mean_col, sem_col, temp_col in zip(mean_cols, sem_cols, temp_cols):\n",
    "    df[mean_col] = df[temp_col].mean(axis=1)\n",
    "    df[sem_col] = df[temp_col].sem(axis=1)\n",
    "\n",
    "# Plotting\n",
    "plt.figure(figsize=(7, 5))\n",
    "x_ticks = np.arange(len(df))\n",
    "\n",
    "colors = ['#d62728', '#9467bd', '#ff9966', '#7f7f7f', '#bcbd22', '#17becf']\n",
    "markers = ['o', 's', '^', 'v', 'D', 'H']\n",
    "labels = ['AMF', 'NIR', 'JNPs+MF+AMF', 'JNPs+MF+NIR', 'PMT', 'JNPs+MF+PMT']\n",
    "\n",
    "for mean_col, sem_col, color, marker, label in zip(mean_cols, sem_cols, colors, markers, labels):\n",
    "    errorbar = plt.errorbar(df['Time(min)'].values, df[mean_col], yerr=df[sem_col], color=color, linewidth=2, capsize=4)\n",
    "    plt.plot(df['Time(min)'].values, df[mean_col], color=color, linewidth=2, linestyle='-', marker=marker, markersize=8, label=label)\n",
    "    for cap in errorbar[1]:\n",
    "        cap.set_markeredgewidth(1)\n",
    "        cap.set_path_effects([path_effects.Stroke(linewidth=1), path_effects.Normal()])\n",
    "\n",
    "# Font properties\n",
    "font_properties = {'fontweight': 'bold', 'fontsize': 18, 'fontfamily': 'Arial'}\n",
    "number_font_properties = {'fontweight': 'bold', 'fontsize': 18, 'fontfamily': 'Arial'}\n",
    "legend_font_properties = {'size': 14, 'family': 'Arial'}\n",
    "\n",
    "plt.xlabel('Time (min)', **font_properties)\n",
    "plt.ylabel('Temperature (°C)', **font_properties)\n",
    "plt.xticks(df['Time(min)'], ha='center', **number_font_properties)\n",
    "plt.yticks([25, 30, 35, 40, 45, 50], **number_font_properties)\n",
    "plt.legend(prop=legend_font_properties)\n",
    "\n",
    "plt.tick_params(axis='both', which='both', length=10, width=2, labelsize=18)\n",
    "\n",
    "ax = plt.gca()\n",
    "ax.spines['left'].set_linewidth(2)\n",
    "ax.spines['bottom'].set_linewidth(2)\n",
    "ax.spines['top'].set_visible(False)\n",
    "ax.spines['right'].set_visible(False)\n",
    "\n",
    "plt.ylim(bottom=25)\n",
    "plt.legend(loc='upper left', bbox_to_anchor=(1.1, 1), prop=legend_font_properties, frameon=False, labelspacing=1)\n",
    "plt.savefig('Temperature_measurement_study_graph.tif', dpi=600, format='tif', bbox_inches='tight')\n",
    "plt.show()"
   ]
  }
 ],
 "metadata": {
  "kernelspec": {
   "display_name": "Python 3",
   "language": "python",
   "name": "python3"
  },
  "language_info": {
   "codemirror_mode": {
    "name": "ipython",
    "version": 3
   },
   "file_extension": ".py",
   "mimetype": "text/x-python",
   "name": "python",
   "nbconvert_exporter": "python",
   "pygments_lexer": "ipython3",
   "version": "3.11.7"
  }
 },
 "nbformat": 4,
 "nbformat_minor": 2
}
