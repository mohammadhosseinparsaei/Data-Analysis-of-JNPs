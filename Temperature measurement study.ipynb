{
 "cells": [
  {
   "cell_type": "markdown",
   "metadata": {},
   "source": [
    "# Temperature measurement study"
   ]
  },
  {
   "cell_type": "markdown",
   "metadata": {},
   "source": [
    "##### Load the CSV file into a DataFrame and reading the data"
   ]
  },
  {
   "cell_type": "code",
   "execution_count": null,
   "metadata": {},
   "outputs": [],
   "source": [
    "import pandas as pd\n",
    "\n",
    "df = pd.read_csv(\"Temperature measurement study.csv\")\n",
    "df"
   ]
  },
  {
   "cell_type": "markdown",
   "metadata": {},
   "source": [
    "##### Plot the results"
   ]
  },
  {
   "cell_type": "code",
   "execution_count": null,
   "metadata": {},
   "outputs": [],
   "source": [
    "import numpy as np\n",
    "import pandas as pd\n",
    "import matplotlib.pyplot as plt\n",
    "import matplotlib.patheffects as path_effects\n",
    "\n",
    "df['Mean_AMF'] = df[['AMF1(°C)', 'AMF2(°C)', 'AMF3(°C)']].mean(axis=1)\n",
    "df['Mean_NIR'] = df[['NIR1(°C)', 'NIR2(°C)', 'NIR3(°C)']].mean(axis=1)\n",
    "df['Mean_JNPs+MF+AMF'] = df[['JNPs+MF+AMF1(°C)', 'JNPs+MF+AMF2(°C)', 'JNPs+MF+AMF3(°C)']].mean(axis=1)\n",
    "df['Mean_JNPs+MF+NIR'] = df[['JNPs+MF+NIR1(°C)', 'JNPs+MF+NIR2(°C)', 'JNPs+MF+NIR3(°C)']].mean(axis=1)\n",
    "df['Mean_PMT'] = df[['PMT1(°C)', 'PMT2(°C)', 'PMT3(°C)']].mean(axis=1)\n",
    "df['Mean_JNPs+MF+PMT'] = df[['JNPs+MF+PMT1(°C)', 'JNPs+MF+PMT2(°C)', 'JNPs+MF+PMT3(°C)']].mean(axis=1)\n",
    "\n",
    "df['SEM_AMF'] = df[['AMF1(°C)', 'AMF2(°C)', 'AMF3(°C)']].sem(axis=1)\n",
    "df['SEM_NIR'] = df[['NIR1(°C)', 'NIR2(°C)', 'NIR3(°C)']].sem(axis=1)\n",
    "df['SEM_JNPs+MF+AMF'] = df[['JNPs+MF+AMF1(°C)', 'JNPs+MF+AMF2(°C)', 'JNPs+MF+AMF3(°C)']].sem(axis=1)\n",
    "df['SEM_JNPs+MF+NIR'] = df[['JNPs+MF+NIR1(°C)', 'JNPs+MF+NIR2(°C)', 'JNPs+MF+NIR3(°C)']].sem(axis=1)\n",
    "df['SEM_PMT'] = df[['PMT1(°C)', 'PMT2(°C)', 'PMT3(°C)']].sem(axis=1)\n",
    "df['SEM_JNPs+MF+PMT'] = df[['JNPs+MF+PMT1(°C)', 'JNPs+MF+PMT2(°C)', 'JNPs+MF+PMT3(°C)']].sem(axis=1)\n",
    "\n",
    "plt.figure(figsize=(7, 5))\n",
    "x_ticks = np.arange(len(df))\n",
    "\n",
    "errorbar_AMF = plt.errorbar(df['Time(min)'].values, df['Mean_AMF'], yerr=df['SEM_AMF'], color='#d62728', linewidth=2, capsize=4)\n",
    "plt.plot(df['Time(min)'].values, df['Mean_AMF'], color='#d62728', linewidth=2, linestyle='-', marker='o', markersize=8, label='AMF')\n",
    "\n",
    "errorbar_NIR = plt.errorbar(df['Time(min)'].values, df['Mean_NIR'], yerr=df['SEM_NIR'], color='#9467bd', linewidth=2, capsize=4)\n",
    "plt.plot(df['Time(min)'].values, df['Mean_NIR'], color='#9467bd', linewidth=2, linestyle='-', marker='s', markersize=8, label='NIR')\n",
    "\n",
    "errorbar_JNPs_MF_AMF = plt.errorbar(df['Time(min)'].values, df['Mean_JNPs+MF+AMF'], yerr=df['SEM_JNPs+MF+AMF'], color='#ff9966', linewidth=2, capsize=4)\n",
    "plt.plot(df['Time(min)'].values, df['Mean_JNPs+MF+AMF'], color='#ff9966', linewidth=2, linestyle='-', marker='^', markersize=8, label='JNPs+MF+AMF')\n",
    "\n",
    "errorbar_JNPs_MF_NIR = plt.errorbar(df['Time(min)'].values, df['Mean_JNPs+MF+NIR'], yerr=df['SEM_JNPs+MF+NIR'], color='#7f7f7f', linewidth=2, capsize=4)\n",
    "plt.plot(df['Time(min)'].values, df['Mean_JNPs+MF+NIR'], color='#7f7f7f', linewidth=2, linestyle='-', marker='v', markersize=8, label='JNPs+MF+NIR')\n",
    "\n",
    "errorbar_PMT = plt.errorbar(df['Time(min)'].values, df['Mean_PMT'], yerr=df['SEM_PMT'], color='#bcbd22', linewidth=2, capsize=4)\n",
    "plt.plot(df['Time(min)'].values, df['Mean_PMT'], color='#bcbd22', linewidth=2, linestyle='-', marker='D', markersize=8, label='PMT')\n",
    "\n",
    "errorbar_JNPs_MF_PMT = plt.errorbar(df['Time(min)'].values, df['Mean_JNPs+MF+PMT'], yerr=df['SEM_JNPs+MF+PMT'], color='#17becf', linewidth=2, capsize=4)\n",
    "plt.plot(df['Time(min)'].values, df['Mean_JNPs+MF+PMT'], color='#17becf', linewidth=2, linestyle='-', marker='H', markersize=8, label='JNPs+MF+PMT')\n",
    "\n",
    "for cap in errorbar_AMF[1]:\n",
    "    cap.set_markeredgewidth(1)\n",
    "    cap.set_path_effects([path_effects.Stroke(linewidth=1), path_effects.Normal()])\n",
    "for cap in errorbar_NIR[1]:\n",
    "    cap.set_markeredgewidth(1)\n",
    "    cap.set_path_effects([path_effects.Stroke(linewidth=1), path_effects.Normal()])\n",
    "for cap in errorbar_JNPs_MF_AMF[1]:\n",
    "    cap.set_markeredgewidth(1)\n",
    "    cap.set_path_effects([path_effects.Stroke(linewidth=1), path_effects.Normal()])\n",
    "for cap in errorbar_JNPs_MF_NIR[1]:\n",
    "    cap.set_markeredgewidth(1)\n",
    "    cap.set_path_effects([path_effects.Stroke(linewidth=1), path_effects.Normal()])\n",
    "for cap in errorbar_PMT[1]:\n",
    "    cap.set_markeredgewidth(1)\n",
    "    cap.set_path_effects([path_effects.Stroke(linewidth=1), path_effects.Normal()])\n",
    "for cap in errorbar_JNPs_MF_PMT[1]:\n",
    "    cap.set_markeredgewidth(1)\n",
    "    cap.set_path_effects([path_effects.Stroke(linewidth=1), path_effects.Normal()])\n",
    "\n",
    "\n",
    "font_properties = {'fontweight': 'bold', 'fontsize': 18, 'fontfamily': 'Arial'}\n",
    "number_font_properties = {'fontweight': 'bold', 'fontsize': 18, 'fontfamily': 'Arial'}\n",
    "legend_font_properties = {'size': 14, 'family': 'Arial'}\n",
    "\n",
    "plt.xlabel('Time (min)', **font_properties)\n",
    "plt.ylabel('Temperature (°C)', **font_properties)\n",
    "plt.xticks(df['Time(min)'], ha='center', **number_font_properties)\n",
    "plt.yticks([25, 30, 35, 40, 45, 50], **number_font_properties)\n",
    "plt.legend(prop=legend_font_properties)\n",
    "\n",
    "plt.tick_params(axis='both', which='both', length=10, width=2, labelsize=18)\n",
    "\n",
    "ax = plt.gca()\n",
    "ax.spines['left'].set_linewidth(2)\n",
    "ax.spines['bottom'].set_linewidth(2)\n",
    "ax.spines['top'].set_visible(False)\n",
    "ax.spines['right'].set_visible(False)\n",
    "\n",
    "plt.ylim(bottom=25)\n",
    "plt.legend(loc='upper left', bbox_to_anchor=(1.1, 1), prop=legend_font_properties, frameon=False, labelspacing=1)\n",
    "plt.savefig('Temperature_measurement_study_graph_with_errorbars.tif', dpi=600, format='tif', bbox_inches='tight')\n",
    "plt.show()"
   ]
  }
 ],
 "metadata": {
  "kernelspec": {
   "display_name": "Python 3",
   "language": "python",
   "name": "python3"
  },
  "language_info": {
   "codemirror_mode": {
    "name": "ipython",
    "version": 3
   },
   "file_extension": ".py",
   "mimetype": "text/x-python",
   "name": "python",
   "nbconvert_exporter": "python",
   "pygments_lexer": "ipython3",
   "version": "3.11.7"
  }
 },
 "nbformat": 4,
 "nbformat_minor": 2
}
