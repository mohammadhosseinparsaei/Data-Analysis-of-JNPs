{
 "cells": [
  {
   "cell_type": "markdown",
   "metadata": {},
   "source": [
    "# Hemolysis"
   ]
  },
  {
   "cell_type": "markdown",
   "metadata": {},
   "source": [
    "##### Load the CSV file into a DataFrame and reading the data"
   ]
  },
  {
   "cell_type": "code",
   "execution_count": null,
   "metadata": {},
   "outputs": [],
   "source": [
    "import pandas as pd\n",
    "\n",
    "df = pd.read_csv(\"Hemolytic toxicity.csv\")\n",
    "df"
   ]
  },
  {
   "cell_type": "markdown",
   "metadata": {},
   "source": [
    "##### Data analysis"
   ]
  },
  {
   "cell_type": "code",
   "execution_count": null,
   "metadata": {},
   "outputs": [],
   "source": [
    "import statsmodels.api as sm\n",
    "from statsmodels.formula.api import ols\n",
    "from statsmodels.stats.multicomp import pairwise_tukeyhsd\n",
    "\n",
    "data = {\n",
    "    'Nanoparticle concentration(mg/ml)': df['Nanoparticle concentration(mg/ml)'],\n",
    "    'A': df.iloc[0, 1:].values,\n",
    "    'B': df.iloc[1, 1:].values,\n",
    "    'C': df.iloc[2, 1:].values,\n",
    "    'D': df.iloc[3, 1:].values,\n",
    "    'E': df.iloc[4, 1:].values,\n",
    "    'F': df.iloc[5, 1:].values\n",
    "}\n",
    "\n",
    "rows = []\n",
    "for conc, values in zip(data['Nanoparticle concentration(mg/ml)'], zip(data['A'], data['B'], data['C'], data['D'], data['E'], data['F'])):\n",
    "    for group, value in zip(['A', 'B', 'C', 'D', 'E', 'F'], values):\n",
    "        rows.append({\n",
    "            'Nanoparticle concentration(mg/ml)': conc,\n",
    "            'Group': group,\n",
    "            'Values': value\n",
    "        })\n",
    "\n",
    "df2 = pd.DataFrame(rows)\n",
    "\n",
    "# One-way ANOVA\n",
    "model = ols('Values ~ C(Group)', data=df2).fit()\n",
    "\n",
    "anova_table = sm.stats.anova_lm(model, typ=1)\n",
    "print(\"ANOVA Table:\")\n",
    "print(anova_table)\n",
    "\n",
    "# Tukey's test\n",
    "tukey = pairwise_tukeyhsd(endog=df2['Values'], groups=df2['Group'], alpha=0.05)\n",
    "print(\"\\nTukey's HSD Test:\")\n",
    "print(tukey)"
   ]
  },
  {
   "cell_type": "markdown",
   "metadata": {},
   "source": [
    "##### Plot the results"
   ]
  },
  {
   "cell_type": "code",
   "execution_count": null,
   "metadata": {},
   "outputs": [],
   "source": [
    "import numpy as np\n",
    "import pandas as pd\n",
    "import matplotlib.pyplot as plt\n",
    "import matplotlib.patheffects as path_effects\n",
    "from comparison import pairwise_comparison\n",
    "\n",
    "df['Mean_Hemolysis'] = df[['Hemolysis1(%)', 'Hemolysis2(%)', 'Hemolysis3(%)']].mean(axis=1)\n",
    "\n",
    "df['SEM'] = df[['Hemolysis1(%)', 'Hemolysis2(%)', 'Hemolysis3(%)']].sem(axis=1)\n",
    "\n",
    "plt.figure(figsize=(6, 6))\n",
    "bar_width = 0.6\n",
    "x_ticks = np.arange(len(df))\n",
    "\n",
    "plt.bar(x_ticks, df['Mean_Hemolysis'], width=bar_width, color='mediumorchid', edgecolor='indigo', linewidth=3.5)\n",
    "\n",
    "errorbar_caps = plt.errorbar(x_ticks, df['Mean_Hemolysis'], yerr=[np.zeros(len(df['SEM'])), df['SEM']], capsize=10, color='indigo', ecolor='indigo', markersize=0, fmt='_', elinewidth=3)\n",
    "\n",
    "for cap in errorbar_caps[1]:\n",
    "    cap.set_markeredgewidth(3)\n",
    "    cap.set_path_effects([path_effects.Stroke(linewidth=3), path_effects.Normal()])\n",
    "\n",
    "font_properties = {'fontweight': 'bold', 'fontsize': 18, 'fontfamily': 'Arial'}\n",
    "number_font_properties = {'fontweight': 'bold', 'fontsize': 18, 'fontfamily': 'Arial'}\n",
    "\n",
    "plt.xlabel('Nanoparticle concentration (mg/ml)', **font_properties)\n",
    "plt.ylabel('Hemolysis (%)', **font_properties)\n",
    "plt.xticks(x_ticks, df['Nanoparticle concentration(mg/ml)'], rotation=45, rotation_mode='anchor', ha='right', **number_font_properties)\n",
    "plt.yticks([0, 1, 2, 3, 4], **number_font_properties)\n",
    "\n",
    "plt.tick_params(axis='both', which='both', length=10, width=3, labelsize=18)\n",
    "\n",
    "ax = plt.gca()\n",
    "ax.spines['left'].set_linewidth(3)\n",
    "ax.spines['bottom'].set_linewidth(3)\n",
    "ax.spines['top'].set_visible(False)\n",
    "ax.spines['right'].set_visible(False)\n",
    "\n",
    "pairwise_comparison(4, 5, .0199, x_ticks, df['Mean_Hemolysis'].tolist(), yerr=df['SEM'].tolist(), dh=0.3, barh=0.02, fs=18, bold=True, line_width=2)\n",
    "pairwise_comparison(3, 5, .0025, x_ticks, df['Mean_Hemolysis'].tolist(), yerr=df['SEM'].tolist(), dh=0.14, barh=0.02, fs=18, bold=True, line_width=2)\n",
    "pairwise_comparison(1, 5, .0007, x_ticks, df['Mean_Hemolysis'].tolist(), yerr=df['SEM'].tolist(), dh=0.03, barh=0.02, fs=18, bold=True, line_width=2)\n",
    "\n",
    "plt.ylim(bottom=0)\n",
    "plt.savefig('Hemolytic_toxicity_graph.tif', dpi=600, format='tif', bbox_inches='tight')\n",
    "plt.show()"
   ]
  }
 ],
 "metadata": {
  "kernelspec": {
   "display_name": "Python 3",
   "language": "python",
   "name": "python3"
  },
  "language_info": {
   "codemirror_mode": {
    "name": "ipython",
    "version": 3
   },
   "file_extension": ".py",
   "mimetype": "text/x-python",
   "name": "python",
   "nbconvert_exporter": "python",
   "pygments_lexer": "ipython3",
   "version": "3.11.7"
  }
 },
 "nbformat": 4,
 "nbformat_minor": 2
}
