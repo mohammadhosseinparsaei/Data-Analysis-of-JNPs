{
 "cells": [
  {
   "cell_type": "markdown",
   "metadata": {},
   "source": [
    "# In vitro cytotoxicity assay"
   ]
  },
  {
   "cell_type": "markdown",
   "metadata": {},
   "source": [
    "##### Load the CSV file into a DataFrame and reading the data"
   ]
  },
  {
   "cell_type": "code",
   "execution_count": null,
   "metadata": {},
   "outputs": [],
   "source": [
    "import pandas as pd\n",
    "\n",
    "df = pd.read_csv(\"In vitro cytotoxicity assay.csv\")\n",
    "df"
   ]
  },
  {
   "cell_type": "markdown",
   "metadata": {},
   "source": [
    "##### Data analysis"
   ]
  },
  {
   "cell_type": "code",
   "execution_count": null,
   "metadata": {},
   "outputs": [],
   "source": [
    "import statsmodels.api as sm\n",
    "from statsmodels.formula.api import ols\n",
    "from statsmodels.stats.multicomp import pairwise_tukeyhsd\n",
    "\n",
    "data = {\n",
    "    'Nanoparticle concentration(mg/ml)': df['Nanoparticle concentration(mg/ml)'],\n",
    "    'A': df.iloc[0, 1:].values,\n",
    "    'B': df.iloc[1, 1:].values,\n",
    "    'C': df.iloc[2, 1:].values,\n",
    "    'D': df.iloc[3, 1:].values,\n",
    "    'E': df.iloc[4, 1:].values,\n",
    "    'F': df.iloc[5, 1:].values,\n",
    "    'G': df.iloc[6, 1:].values,\n",
    "    'H': df.iloc[7, 1:].values,\n",
    "    'I': df.iloc[8, 1:].values,\n",
    "    'J': df.iloc[9, 1:].values,\n",
    "    'K': df.iloc[10, 1:].values\n",
    "\n",
    "}\n",
    "\n",
    "rows = []\n",
    "for conc, values in zip(data['Nanoparticle concentration(mg/ml)'], zip(data['A'], data['B'], data['C'], data['D'], data['E'], data['F'], data['G'], data['H'], data['I'], data['J'], data['K'])):\n",
    "    for group, value in zip(['A', 'B', 'C', 'D', 'E', 'F', 'G', 'H', 'I', 'J', 'K'], values):\n",
    "        rows.append({\n",
    "            'Nanoparticle concentration(mg/ml)': conc,\n",
    "            'Group': group,\n",
    "            'Values': value\n",
    "        })\n",
    "\n",
    "df2 = pd.DataFrame(rows)\n",
    "\n",
    "# One-way ANOVA\n",
    "model = ols('Values ~ C(Group)', data=df2).fit()\n",
    "\n",
    "anova_table = sm.stats.anova_lm(model, typ=1)\n",
    "print(\"ANOVA Table:\")\n",
    "print(anova_table)\n",
    "\n",
    "# Tukey's test\n",
    "tukey = pairwise_tukeyhsd(endog=df2['Values'], groups=df2['Group'], alpha=0.05)\n",
    "print(\"\\nTukey's HSD Test:\")\n",
    "print(tukey)\n"
   ]
  },
  {
   "cell_type": "markdown",
   "metadata": {},
   "source": [
    "##### Plot the results"
   ]
  },
  {
   "cell_type": "code",
   "execution_count": null,
   "metadata": {},
   "outputs": [],
   "source": [
    "import numpy as np\n",
    "import pandas as pd\n",
    "import matplotlib.pyplot as plt\n",
    "import matplotlib.patheffects as path_effects\n",
    "from comparison import pairwise_comparison\n",
    "\n",
    "df['Mean_Cell_viability'] = df[['Cell viability1(%)', 'Cell viability2(%)', 'Cell viability3(%)']].mean(axis=1)\n",
    "\n",
    "df['SEM'] = df[['Cell viability1(%)', 'Cell viability2(%)', 'Cell viability3(%)']].sem(axis=1)\n",
    "\n",
    "plt.figure(figsize=(12, 8))\n",
    "bar_width = 0.6\n",
    "x_ticks = np.arange(len(df))\n",
    "\n",
    "plt.bar(x_ticks, df['Mean_Cell_viability'], width=bar_width, color='cornflowerblue', edgecolor='darkslategray', linewidth=4)\n",
    "\n",
    "errorbar_caps = plt.errorbar(x_ticks, df['Mean_Cell_viability'], yerr=df['SEM'], capsize=9, color='darkslategray', ecolor='darkslategray', markersize=0, fmt='_', elinewidth=2)\n",
    "\n",
    "for cap in errorbar_caps[1]:\n",
    "    cap.set_markeredgewidth(2)\n",
    "    cap.set_path_effects([path_effects.Stroke(linewidth=2), path_effects.Normal()])\n",
    "\n",
    "font_properties = {'fontweight': 'bold', 'fontsize': 25, 'fontfamily': 'Arial'}\n",
    "number_font_properties = {'fontweight': 'bold', 'fontsize': 25, 'fontfamily': 'Arial'}\n",
    "\n",
    "xtick_labels = ['Control', '0.75', '1.5', '3.12', '6.25', '12.5', '25', '50', '100', '500', '1000']\n",
    "plt.xticks(x_ticks, xtick_labels, rotation=45, rotation_mode='anchor', ha='right', **number_font_properties)\n",
    "plt.xlabel('Nanoparticle concentration(mg/ml)', **font_properties)\n",
    "\n",
    "plt.yticks([0, 20, 40, 60, 80, 100], **number_font_properties)\n",
    "plt.ylabel('Cell viability (%)', **font_properties)\n",
    "\n",
    "plt.tick_params(axis='both', which='both', length=15, width=4, labelsize=25)\n",
    "\n",
    "ax = plt.gca()\n",
    "ax.spines['left'].set_linewidth(4)\n",
    "ax.spines['bottom'].set_linewidth(4)\n",
    "ax.spines['top'].set_visible(False)\n",
    "ax.spines['right'].set_visible(False)\n",
    "\n",
    "pairwise_comparison(1, 3, 0.0004, x_ticks, df['Mean_Cell_viability'].tolist(), yerr=df['SEM'].tolist(), barh=0.015, fs=18, bold=True, line_width=2)\n",
    "pairwise_comparison(3, 6, 0.0075, x_ticks, df['Mean_Cell_viability'].tolist(), yerr=df['SEM'].tolist(), dh= 0.085,barh=0.015, fs=18, bold=True, line_width=2)\n",
    "pairwise_comparison(5, 7, 0.0183, x_ticks, df['Mean_Cell_viability'].tolist(), yerr=df['SEM'].tolist(), barh=0.015, fs=18, bold=True, line_width=2)\n",
    "pairwise_comparison(7, 8, 0, x_ticks, df['Mean_Cell_viability'].tolist(), yerr=df['SEM'].tolist(), barh=0.015, fs=18, bold=True, line_width=2)\n",
    "pairwise_comparison(9, 10, 0.2186, x_ticks, df['Mean_Cell_viability'].tolist(), yerr=df['SEM'].tolist(), barh=0.015, fs=15, bold=True, line_width=2)\n",
    "\n",
    "plt.ylim(bottom=0)\n",
    "plt.savefig('In_vitro_cytotoxicity_assay_graph.tif', dpi=600, format='tif', bbox_inches='tight')\n",
    "plt.show()"
   ]
  }
 ],
 "metadata": {
  "kernelspec": {
   "display_name": "Python 3",
   "language": "python",
   "name": "python3"
  },
  "language_info": {
   "codemirror_mode": {
    "name": "ipython",
    "version": 3
   },
   "file_extension": ".py",
   "mimetype": "text/x-python",
   "name": "python",
   "nbconvert_exporter": "python",
   "pygments_lexer": "ipython3",
   "version": "3.11.7"
  }
 },
 "nbformat": 4,
 "nbformat_minor": 2
}
