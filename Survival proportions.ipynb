{
 "cells": [
  {
   "cell_type": "markdown",
   "metadata": {},
   "source": [
    "# Survival proportions"
   ]
  },
  {
   "cell_type": "markdown",
   "metadata": {},
   "source": [
    "##### Load the CSV file into a DataFrame and reading the data"
   ]
  },
  {
   "cell_type": "code",
   "execution_count": null,
   "metadata": {},
   "outputs": [],
   "source": [
    "import pandas as pd\n",
    "\n",
    "df = pd.read_csv(\"Survival proportions.csv\")\n",
    "df"
   ]
  },
  {
   "cell_type": "markdown",
   "metadata": {},
   "source": [
    "##### Data analysis and plot the results"
   ]
  },
  {
   "cell_type": "code",
   "execution_count": null,
   "metadata": {},
   "outputs": [],
   "source": [
    "import pandas as pd\n",
    "from lifelines import KaplanMeierFitter\n",
    "from lifelines.statistics import logrank_test\n",
    "from survival import median_survival_time\n",
    "import matplotlib.pyplot as plt\n",
    "\n",
    "time_col, event_col, treat_col = 'Time(day)', 'dead(1)/alive(0)', 'Groups'\n",
    "kmf, groups = KaplanMeierFitter(), df[treat_col].unique()\n",
    "\n",
    "custom_colors = ['#000080', '#ff7f0e', '#2ca02c', '#d62728', '#9467bd', '#8c564b',\n",
    "                 '#ff9966', '#7f7f7f', '#bcbd22', '#17becf', '#ff00ff']\n",
    "\n",
    "plt.figure(figsize=(8, 6))\n",
    "for i, group in enumerate(groups):\n",
    "    d = df[df[treat_col] == group]\n",
    "    kmf.fit(d[time_col], event_observed=d[event_col], label=group)\n",
    "    kmf.plot(ci_show=False, show_censors=False, lw=3, color=custom_colors[i])\n",
    "\n",
    "    median = median_survival_time(d[time_col].values, d[event_col].values)\n",
    "    print(f\"Median Survival for {group}: {median}\")\n",
    "\n",
    "for i in range(len(groups)):\n",
    "    for j in range(i + 1, len(groups)):\n",
    "        g1, g2 = groups[i], groups[j]\n",
    "        result = logrank_test(df[df[treat_col] == g1][time_col], df[df[treat_col] == g2][time_col],\n",
    "                              df[df[treat_col] == g1][event_col], df[df[treat_col] == g2][event_col])\n",
    "        print(f\"Log-Rank (Mantel-Cox) Test between {g1} and {g2}: p-value = {result.p_value:.5f}\")\n",
    "\n",
    "plt.xlabel('Time (day)', fontdict={'fontsize': 18, 'fontweight': 'bold', 'family': 'Arial'})\n",
    "plt.ylabel('Survival Probability', fontdict={'fontsize': 18, 'fontweight': 'bold', 'family': 'Arial'})\n",
    "plt.legend(loc='upper left', bbox_to_anchor=(1, 1), frameon=False, prop={\"size\": 12}, labelspacing=1)\n",
    "plt.tick_params(axis='both', which='both', length=8, width=3, labelsize=18)\n",
    "for spine in ['left', 'bottom']:\n",
    "    plt.gca().spines[spine].set_linewidth(3)\n",
    "plt.gca().spines['top'].set_visible(False)\n",
    "plt.gca().spines['right'].set_visible(False)\n",
    "plt.ylim(0)\n",
    "plt.xlim(0)\n",
    "plt.xticks(fontweight='bold', family='Arial')\n",
    "plt.yticks(fontweight='bold', family='Arial')\n",
    "plt.savefig('Survival_proportions_graph.tif', dpi=600, format='tif', bbox_inches='tight')\n",
    "plt.show()"
   ]
  }
 ],
 "metadata": {
  "kernelspec": {
   "display_name": "Python 3",
   "language": "python",
   "name": "python3"
  },
  "language_info": {
   "codemirror_mode": {
    "name": "ipython",
    "version": 3
   },
   "file_extension": ".py",
   "mimetype": "text/x-python",
   "name": "python",
   "nbconvert_exporter": "python",
   "pygments_lexer": "ipython3",
   "version": "3.11.7"
  }
 },
 "nbformat": 4,
 "nbformat_minor": 2
}
