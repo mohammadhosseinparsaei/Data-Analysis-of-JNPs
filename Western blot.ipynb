{
 "cells": [
  {
   "cell_type": "markdown",
   "metadata": {},
   "source": [
    "## 1. Relative level of Hsp70\n",
    "\n",
    "In this analysis, we aimed to examine the relative levels of Hsp70 protein expression across several experimental groups. The Hsp70 levels were normalized to β-actin, a housekeeping protein used as a control to ensure consistent loading of samples in Western Blot experiments. In this section, we load the `Hsp70_actin.csv` file, perform statistical analysis (One-Way ANOVA and Tukey's HSD test), and generate the corresponding plots across different experimental groups."
   ]
  },
  {
   "cell_type": "markdown",
   "metadata": {},
   "source": [
    "##### Load the CSV file into a DataFrame and reading the data"
   ]
  },
  {
   "cell_type": "code",
   "execution_count": null,
   "metadata": {},
   "outputs": [],
   "source": [
    "import pandas as pd\n",
    "\n",
    "df_hsp = pd.read_csv(\"Hsp70_actin.csv\")\n",
    "df_hsp"
   ]
  },
  {
   "cell_type": "markdown",
   "metadata": {},
   "source": [
    "##### Data analysis"
   ]
  },
  {
   "cell_type": "code",
   "execution_count": null,
   "metadata": {},
   "outputs": [],
   "source": [
    "import statsmodels.api as sm\n",
    "from statsmodels.formula.api import ols\n",
    "from statsmodels.stats.multicomp import pairwise_tukeyhsd\n",
    "\n",
    "# Prepare data for ANOVA\n",
    "groups = ['Control', 'JNPs+MF', 'AMF', 'NIR', 'RT', 'PMT', 'JNPs+MF+AMF', 'JNPs+MF+NIR', 'JNPs+MF+RT', 'JNPs+MF+PMT', 'JNPs+MF+RT+PMT']\n",
    "data = {group: df_hsp.iloc[0:3, idx].values for idx, group in enumerate(groups)}\n",
    "\n",
    "rows = []\n",
    "for values in zip(*[data[group] for group in groups]):\n",
    "    for group, value in zip(groups, values):\n",
    "        rows.append({\n",
    "            'Group': group,\n",
    "            'Values': value\n",
    "        })\n",
    "\n",
    "df_hsp2 = pd.DataFrame(rows)\n",
    "\n",
    "# One-way ANOVA\n",
    "model = ols('Values ~ C(Group)', data=df_hsp2).fit()\n",
    "anova_table = sm.stats.anova_lm(model, typ=1)\n",
    "print(\"ANOVA Table:\")\n",
    "print(anova_table)\n",
    "\n",
    "# Tukey's HSD Test\n",
    "tukey = pairwise_tukeyhsd(endog=df_hsp2['Values'], groups=df_hsp2['Group'], alpha=0.05)\n",
    "print(\"\\nTukey's HSD Test:\")\n",
    "print(tukey)"
   ]
  },
  {
   "cell_type": "markdown",
   "metadata": {},
   "source": [
    "##### Plot the results"
   ]
  },
  {
   "cell_type": "code",
   "execution_count": null,
   "metadata": {},
   "outputs": [],
   "source": [
    "import numpy as np\n",
    "import matplotlib.pyplot as plt\n",
    "import matplotlib.patheffects as path_effects\n",
    "from comparison import pairwise_comparison\n",
    "\n",
    "# Calculate Means and SEMs for each group\n",
    "means = {group: values.mean() for group, values in data.items()}\n",
    "sems = {group: values.std(ddof=1) / (len(values) ** 0.5) for group, values in data.items()}\n",
    "\n",
    "plt.figure(figsize=(13, 10))\n",
    "x_ticks = np.arange(len(df_hsp2))\n",
    "\n",
    "# Define bar and error bar properties\n",
    "bars = plt.bar(x=range(len(groups)), width=0.65, height=list(means.values()), color='#cc6600', \n",
    "               edgecolor='maroon', linewidth=4, capsize=14)\n",
    "\n",
    "plt.errorbar(x=range(len(groups)), y=list(means.values()), yerr=list(sems.values()), fmt='none', \n",
    "             ecolor='maroon', elinewidth=4, capsize=14)\n",
    "\n",
    "# Customize error bar caps\n",
    "for cap in plt.gca().get_lines():\n",
    "    cap.set_markeredgewidth(3)\n",
    "    cap.set_path_effects([path_effects.Stroke(linewidth=3), path_effects.Normal()])\n",
    "\n",
    "# Set fonts and labels\n",
    "font_properties = {'fontweight': 'bold', 'fontsize': 28, 'fontfamily': 'Arial'}\n",
    "number_font_properties = {'fontweight': 'bold', 'fontsize': 24, 'fontfamily': 'Arial'}\n",
    "plt.xticks(range(len(groups)), labels=groups, rotation=45, ha='right', **number_font_properties)\n",
    "plt.ylabel('Relative level of Hsp70', **font_properties)\n",
    "plt.yticks(**number_font_properties)\n",
    "\n",
    "# Customize axis appearance\n",
    "ax = plt.gca()\n",
    "ax.spines['left'].set_linewidth(4)\n",
    "ax.spines['bottom'].set_linewidth(4)\n",
    "ax.spines['top'].set_visible(False)\n",
    "ax.spines['right'].set_visible(False)\n",
    "plt.tick_params(axis='both', which='both', length=12, width=4, labelsize=26)\n",
    "\n",
    "# Perform pairwise comparisons and plot results\n",
    "pairwise_comparison(groups.index('JNPs+MF+PMT'), groups.index('JNPs+MF+RT+PMT'), 0.0438, x_ticks, list(means.values()), yerr=list(sems.values()), barh=0.02, fs=24, bold=True, line_width=3)\n",
    "pairwise_comparison(groups.index('RT'), groups.index('JNPs+MF+RT'), 0.0001, x_ticks, list(means.values()), yerr=list(sems.values()), barh=0.02, fs=24, bold=True, line_width=3)\n",
    "pairwise_comparison(groups.index('NIR'), groups.index('PMT'), 0.0168, x_ticks, list(means.values()), yerr=list(sems.values()), barh=0.02, fs=24, bold=True, line_width=3)\n",
    "pairwise_comparison(groups.index('Control'), groups.index('AMF'), 0.0049, x_ticks, list(means.values()), yerr=list(sems.values()), barh=0.02, fs=24, bold=True, line_width=3)\n",
    "\n",
    "# Final adjustments and save plot\n",
    "plt.tight_layout()\n",
    "plt.savefig('Hsp70_actin_graph.tif', dpi=600, format='tif', bbox_inches='tight')\n",
    "plt.show()"
   ]
  },
  {
   "cell_type": "markdown",
   "metadata": {},
   "source": [
    "## 2. Relative level of VEGF\n",
    "\n",
    "In this analysis, we aimed to examine the relative levels of VEGF protein expression across several experimental groups. We load the `VEGF_actin.csv` file, perform statistical analysis (One-Way ANOVA and Tukey's HSD test), and generate the corresponding plots for the different experimental groups."
   ]
  },
  {
   "cell_type": "markdown",
   "metadata": {},
   "source": [
    "##### Load the CSV file into a DataFrame and reading the data"
   ]
  },
  {
   "cell_type": "code",
   "execution_count": null,
   "metadata": {},
   "outputs": [],
   "source": [
    "import pandas as pd\n",
    "\n",
    "df_VEGF = pd.read_csv(\"VEGF_actin.csv\")\n",
    "df_VEGF"
   ]
  },
  {
   "cell_type": "markdown",
   "metadata": {},
   "source": [
    "##### Data analysis"
   ]
  },
  {
   "cell_type": "code",
   "execution_count": null,
   "metadata": {},
   "outputs": [],
   "source": [
    "import statsmodels.api as sm\n",
    "from statsmodels.formula.api import ols\n",
    "from statsmodels.stats.multicomp import pairwise_tukeyhsd\n",
    "\n",
    "# Prepare data for ANOVA\n",
    "groups = ['Control', 'JNPs+MF', 'AMF', 'NIR', 'RT', 'PMT', 'JNPs+MF+AMF', 'JNPs+MF+NIR', 'JNPs+MF+RT', 'JNPs+MF+PMT', 'JNPs+MF+RT+PMT']\n",
    "data = {group: df_VEGF.iloc[0:3, idx].values for idx, group in enumerate(groups)}\n",
    "\n",
    "rows = []\n",
    "for values in zip(*[data[group] for group in groups]):\n",
    "    for group, value in zip(groups, values):\n",
    "        rows.append({\n",
    "            'Group': group,\n",
    "            'Values': value\n",
    "        })\n",
    "\n",
    "df_VEGF2 = pd.DataFrame(rows)\n",
    "\n",
    "# One-way ANOVA\n",
    "model = ols('Values ~ C(Group)', data=df_VEGF2).fit()\n",
    "anova_table = sm.stats.anova_lm(model, typ=1)\n",
    "print(\"ANOVA Table:\")\n",
    "print(anova_table)\n",
    "\n",
    "# Tukey's HSD Test\n",
    "tukey = pairwise_tukeyhsd(endog=df_VEGF2['Values'], groups=df_VEGF2['Group'], alpha=0.05)\n",
    "print(\"\\nTukey's HSD Test:\")\n",
    "print(tukey)"
   ]
  },
  {
   "cell_type": "markdown",
   "metadata": {},
   "source": [
    "##### Plot the results"
   ]
  },
  {
   "cell_type": "code",
   "execution_count": null,
   "metadata": {},
   "outputs": [],
   "source": [
    "import numpy as np\n",
    "import matplotlib.pyplot as plt\n",
    "import matplotlib.patheffects as path_effects\n",
    "from comparison import pairwise_comparison\n",
    "\n",
    "# Calculate Means and SEMs for each group\n",
    "means = {group: values.mean() for group, values in data.items()}\n",
    "sems = {group: values.std(ddof=1) / (len(values) ** 0.5) for group, values in data.items()}\n",
    "\n",
    "plt.figure(figsize=(13, 10))\n",
    "x_ticks = np.arange(len(df_VEGF2))\n",
    "\n",
    "# Define bar and error bar properties\n",
    "bars = plt.bar(x=range(len(groups)), width=0.65, height=list(means.values()), color='#cccc00', \n",
    "               edgecolor='#cc6600', linewidth=4, capsize=14)\n",
    "\n",
    "plt.errorbar(x=range(len(groups)), y=list(means.values()), yerr=list(sems.values()), fmt='none', \n",
    "             ecolor='#cc6600', elinewidth=4, capsize=14)\n",
    "\n",
    "# Customize error bar caps\n",
    "for cap in plt.gca().get_lines():\n",
    "    cap.set_markeredgewidth(3)\n",
    "    cap.set_path_effects([path_effects.Stroke(linewidth=3), path_effects.Normal()])\n",
    "\n",
    "# Set fonts and labels\n",
    "font_properties = {'fontweight': 'bold', 'fontsize': 28, 'fontfamily': 'Arial'}\n",
    "number_font_properties = {'fontweight': 'bold', 'fontsize': 24, 'fontfamily': 'Arial'}\n",
    "plt.xticks(range(len(groups)), labels=groups, rotation=45, ha='right', **number_font_properties)\n",
    "plt.ylabel('Relative level of VEGF', **font_properties)\n",
    "plt.yticks(**number_font_properties)\n",
    "\n",
    "# Customize axis appearance\n",
    "ax = plt.gca()\n",
    "ax.spines['left'].set_linewidth(4)\n",
    "ax.spines['bottom'].set_linewidth(4)\n",
    "ax.spines['top'].set_visible(False)\n",
    "ax.spines['right'].set_visible(False)\n",
    "plt.tick_params(axis='both', which='both', length=12, width=4, labelsize=26)\n",
    "\n",
    "# Perform pairwise comparisons and plot results\n",
    "pairwise_comparison(groups.index('JNPs+MF+PMT'), groups.index('JNPs+MF+RT+PMT'), 0.0003, x_ticks, list(means.values()), yerr=list(sems.values()), barh=0.02, fs=24, bold=True, line_width=3)\n",
    "pairwise_comparison(groups.index('JNPs+MF+RT'), groups.index('JNPs+MF+PMT'), 0.0, x_ticks, list(means.values()), yerr=list(sems.values()), barh=0.02, fs=24, bold=True, line_width=3)\n",
    "pairwise_comparison(groups.index('JNPs+MF+AMF'), groups.index('JNPs+MF+RT'), 0.0033, x_ticks, list(means.values()), yerr=list(sems.values()), barh=0.02, fs=24, bold=True, line_width=3)\n",
    "pairwise_comparison(groups.index('AMF'), groups.index('PMT'), 0.0401, x_ticks, list(means.values()), yerr=list(sems.values()), barh=0.02, fs=24, bold=True, line_width=3)\n",
    "\n",
    "# Final adjustments and save plot\n",
    "plt.tight_layout()\n",
    "plt.savefig('VEGF_actin_graph.tif', dpi=600, format='tif', bbox_inches='tight')\n",
    "plt.show()"
   ]
  }
 ],
 "metadata": {
  "kernelspec": {
   "display_name": "Python 3",
   "language": "python",
   "name": "python3"
  },
  "language_info": {
   "codemirror_mode": {
    "name": "ipython",
    "version": 3
   },
   "file_extension": ".py",
   "mimetype": "text/x-python",
   "name": "python",
   "nbconvert_exporter": "python",
   "pygments_lexer": "ipython3",
   "version": "3.11.7"
  }
 },
 "nbformat": 4,
 "nbformat_minor": 2
}
