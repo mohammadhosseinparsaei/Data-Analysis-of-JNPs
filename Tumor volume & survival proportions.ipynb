{
 "cells": [
  {
   "cell_type": "markdown",
   "metadata": {},
   "source": [
    "# Tumor volume and survival proportions"
   ]
  },
  {
   "cell_type": "markdown",
   "metadata": {},
   "source": [
    "### 1. Tumor Volume Analysis\n",
    "In this section, we load the tumor volume data, perform statistical analysis (One-Way ANOVA and Tukey's HSD test), and generate the corresponding plots for tumor volume over time across different experimental groups."
   ]
  },
  {
   "cell_type": "markdown",
   "metadata": {},
   "source": [
    "##### Load the CSV file into a DataFrame and reading the data"
   ]
  },
  {
   "cell_type": "code",
   "execution_count": null,
   "metadata": {},
   "outputs": [],
   "source": [
    "import pandas as pd\n",
    "\n",
    "# Load Tumor Volume data\n",
    "df_tv = pd.read_csv(\"Tumor volume.csv\")\n",
    "df_tv"
   ]
  },
  {
   "cell_type": "markdown",
   "metadata": {},
   "source": [
    "##### Data analysis"
   ]
  },
  {
   "cell_type": "code",
   "execution_count": null,
   "metadata": {},
   "outputs": [],
   "source": [
    "import statsmodels.api as sm\n",
    "from statsmodels.formula.api import ols\n",
    "from statsmodels.stats.multicomp import pairwise_tukeyhsd\n",
    "\n",
    "# Prepare data for ANOVA\n",
    "data = {\n",
    "    'Control': df_tv.iloc[6, 1:4].values,\n",
    "    'JNPs+MF': df_tv.iloc[6, 4:7].values,\n",
    "    'RT': df_tv.iloc[6, 7:10].values,\n",
    "    'AMF': df_tv.iloc[6, 10:13].values,\n",
    "    'NIR': df_tv.iloc[6, 13:16].values,\n",
    "    'JNPs+MF+RT': df_tv.iloc[6, 16:19].values,\n",
    "    'JNPs+MF+AMF': df_tv.iloc[6, 19:22].values,\n",
    "    'JNPs+MF+NIR': df_tv.iloc[6, 22:25].values,\n",
    "    'PMT': df_tv.iloc[6, 25:28].values,\n",
    "    'JNPs+MF+PMT': df_tv.iloc[6, 28:31].values,\n",
    "    'JNPs+MF+RT+PMT': df_tv.iloc[6, 31:34].values\n",
    "}\n",
    "\n",
    "# Transform data into a long format\n",
    "rows = []\n",
    "for values in zip(data['Control'], data['JNPs+MF'], data['RT'], data['AMF'], data['NIR'], data['JNPs+MF+RT'], data['JNPs+MF+AMF'], data['JNPs+MF+NIR'], data['PMT'], data['JNPs+MF+PMT'], data['JNPs+MF+RT+PMT']):\n",
    "    for group, value in zip(['Control', 'JNPs+MF', 'RT', 'AMF', 'NIR', 'JNPs+MF+RT', 'JNPs+MF+AMF', 'JNPs+MF+NIR', 'PMT', 'JNPs+MF+PMT', 'JNPs+MF+RT+PMT'], values):\n",
    "        rows.append({\n",
    "            'Group': group,\n",
    "            'Values': value\n",
    "        })\n",
    "\n",
    "df_tv2 = pd.DataFrame(rows)\n",
    "\n",
    "# One-way ANOVA\n",
    "model = ols('Values ~ C(Group)', data=df_tv2).fit()\n",
    "\n",
    "anova_table = sm.stats.anova_lm(model, typ=1)\n",
    "print(\"ANOVA Table:\")\n",
    "print(anova_table)\n",
    "\n",
    "# Tukey's HSD Test\n",
    "tukey = pairwise_tukeyhsd(endog=df_tv2['Values'], groups=df_tv2['Group'], alpha=0.05)\n",
    "print(\"\\nTukey's HSD Test:\")\n",
    "print(tukey)"
   ]
  },
  {
   "cell_type": "markdown",
   "metadata": {},
   "source": [
    "##### Plot the results"
   ]
  },
  {
   "cell_type": "code",
   "execution_count": null,
   "metadata": {},
   "outputs": [],
   "source": [
    "import matplotlib.pyplot as plt\n",
    "import matplotlib.patheffects as path_effects\n",
    "from comparison import pairwise_comparison\n",
    "\n",
    "# Define lists of groups and their respective columns\n",
    "groups = ['Control', 'JNPs+MF', 'RT', 'AMF', 'NIR', 'JNPs+MF+RT', 'JNPs+MF+AMF', 'JNPs+MF+NIR', 'PMT', 'JNPs+MF+PMT', 'JNPs+MF+RT+PMT']\n",
    "columns = [['Control1', 'Control2', 'Control3'], ['JNPs+MF1', 'JNPs+MF2', 'JNPs+MF3'], ['RT1', 'RT2', 'RT3'], \n",
    "           ['AMF1', 'AMF2', 'AMF3'], ['NIR1', 'NIR2', 'NIR3'], ['JNPs+MF+RT1', 'JNPs+MF+RT2', 'JNPs+MF+RT3'], \n",
    "           ['JNPs+MF+AMF1', 'JNPs+MF+AMF2', 'JNPs+MF+AMF3'], ['JNPs+MF+NIR1', 'JNPs+MF+NIR2', 'JNPs+MF+NIR3'], \n",
    "           ['PMT1', 'PMT2', 'PMT3'], ['JNPs+MF+PMT1', 'JNPs+MF+PMT2', 'JNPs+MF+PMT3'], ['JNPs+MF+RT+PMT1', 'JNPs+MF+RT+PMT2', 'JNPs+MF+RT+PMT3']]\n",
    "\n",
    "# Calculate Means and SEMs for each group\n",
    "for group, cols in zip(groups, columns):\n",
    "    df_tv[f'Mean_{group}'] = df_tv[cols].mean(axis=1)\n",
    "    df_tv[f'SEM_{group}'] = df_tv[cols].sem(axis=1)\n",
    "\n",
    "# Plot the data\n",
    "plt.figure(figsize=(13, 10))\n",
    "colors = ['#000080', '#ff7f0e', '#2ca02c', '#d62728', '#9467bd', '#8c564b', '#ff9966', '#7f7f7f', '#bcbd22', '#17becf', '#ff00ff']\n",
    "markers = ['o', 's', '^', 'v', 'D', '>', '<', 'H', 'h', 'd', '.']\n",
    "labels = [group for group in groups]\n",
    "\n",
    "# Plot each group with corresponding color, marker, and label\n",
    "for group, color, marker, label in zip(groups, colors, markers, labels):\n",
    "    plt.errorbar(df_tv['Time(day)'], df_tv[f'Mean_{group}'], yerr=df_tv[f'SEM_{group}'], color=color, linewidth=3, capsize=6)\n",
    "    plt.plot(df_tv['Time(day)'], df_tv[f'Mean_{group}'], color=color, linewidth=4, linestyle='-', marker=marker, markersize=14, label=label)\n",
    "\n",
    "# Customize plot appearance\n",
    "for cap in plt.gca().get_lines():\n",
    "    cap.set_markeredgewidth(2)\n",
    "    cap.set_path_effects([path_effects.Stroke(linewidth=2), path_effects.Normal()])\n",
    "\n",
    "# Customize font properties\n",
    "font_properties = {'fontweight': 'bold', 'fontsize': 28, 'fontfamily': 'Arial'}\n",
    "number_font_properties = {'fontweight': 'bold', 'fontsize': 28, 'fontfamily': 'Arial'}\n",
    "plt.xlabel('Days', **font_properties)\n",
    "plt.ylabel('Tumor volume  (mm$^{3}$)', **font_properties)\n",
    "plt.xticks(df_tv['Time(day)'], ha='center', **number_font_properties)\n",
    "plt.yticks([0, 1000, 2000, 3000, 4000, 5000, 6000], **number_font_properties)\n",
    "plt.tick_params(axis='both', which='both', length=12, width=4, labelsize=26)\n",
    "\n",
    "# Customize axes and ticks\n",
    "ax = plt.gca()\n",
    "ax.spines['left'].set_linewidth(4)\n",
    "ax.spines['bottom'].set_linewidth(4)\n",
    "ax.spines['top'].set_visible(False)\n",
    "ax.spines['right'].set_visible(False)\n",
    "\n",
    "# Collect last mean and SEM values\n",
    "last_values = {f'Mean_{group}': df_tv[f'Mean_{group}'].iloc[-1] for group in groups}\n",
    "last_sems = {f'SEM_{group}': df_tv[f'SEM_{group}'].iloc[-1] for group in groups}\n",
    "\n",
    "comdf = pd.DataFrame({'all_mean': list(last_values.values()), 'all_sem': list(last_sems.values())})\n",
    "\n",
    "# Perform pairwise comparison\n",
    "pairwise_comparison(5, 10, 0, range(len(comdf)), comdf['all_mean'].tolist(), dh=0.66, barh=0.015, fs=26, bold=True, line_width=3, vertical=True)\n",
    "pairwise_comparison(9, 10, 0.0379, range(len(comdf)), comdf['all_mean'].tolist(), dh=0.52, barh=0.015, fs=26, bold=True, line_width=3, vertical=True)\n",
    "\n",
    "# Set plot limits and save the picture\n",
    "plt.ylim(bottom=0)\n",
    "plt.xlim(left=0)\n",
    "plt.savefig('Tumor_volume_graph.tif', dpi=600, format='tif', bbox_inches='tight')\n",
    "plt.show()"
   ]
  },
  {
   "cell_type": "markdown",
   "metadata": {},
   "source": [
    "### 2. Survival Analysis\n",
    "In this section, we load the survival data, perform Kaplan-Meier survival analysis, and generate the survival curves for different experimental groups. Additionally, log-rank tests are performed to compare survival distributions."
   ]
  },
  {
   "cell_type": "markdown",
   "metadata": {},
   "source": [
    "##### Load the CSV file into a DataFrame and reading the data"
   ]
  },
  {
   "cell_type": "code",
   "execution_count": null,
   "metadata": {},
   "outputs": [],
   "source": [
    "df_sf = pd.read_csv(\"Survival proportions.csv\")\n",
    "df_sf"
   ]
  },
  {
   "cell_type": "markdown",
   "metadata": {},
   "source": [
    "##### Data analysis and plot the results"
   ]
  },
  {
   "cell_type": "code",
   "execution_count": null,
   "metadata": {},
   "outputs": [],
   "source": [
    "from lifelines import KaplanMeierFitter\n",
    "from lifelines.statistics import logrank_test\n",
    "from survival import median_survival_time\n",
    "\n",
    "time_col, event_col, treat_col = 'Time(day)', 'dead(1)/alive(0)', 'Groups'\n",
    "kmf, groups = KaplanMeierFitter(), df_sf[treat_col].unique()\n",
    "\n",
    "plt.figure(figsize=(8, 6))\n",
    "ax = plt.gca()\n",
    "\n",
    "# Plot each group's Kaplan-Meier survival curve and print the median survival time\n",
    "for i, group in enumerate(groups):\n",
    "    d = df_sf[df_sf[treat_col] == group]\n",
    "    kmf.fit(d[time_col], event_observed=d[event_col], label=group)\n",
    "    kmf.plot(ax=ax, ci_show=False, show_censors=False, lw=3, color=colors[i], legend=False)\n",
    "    median = median_survival_time(d[time_col].values, d[event_col].values)\n",
    "    print(f\"Median Survival for {group}: {median}\")\n",
    "\n",
    "# Perform log-rank tests between each pair of groups\n",
    "for i in range(len(groups)):\n",
    "    for j in range(i + 1, len(groups)):\n",
    "        g1, g2 = groups[i], groups[j]\n",
    "        result = logrank_test(df_sf[df_sf[treat_col] == g1][time_col], df_sf[df_sf[treat_col] == g2][time_col],\n",
    "                              df_sf[df_sf[treat_col] == g1][event_col], df_sf[df_sf[treat_col] == g2][event_col])\n",
    "        print(f\"Log-Rank (Mantel-Cox) Test between {g1} and {g2}: p-value = {result.p_value:.5f}\")\n",
    "\n",
    "# Customize the plot appearance\n",
    "plt.xlabel('Time (day)', fontdict={'fontsize': 18, 'fontweight': 'bold', 'family': 'Arial'})\n",
    "plt.ylabel('Survival probability', fontdict={'fontsize': 18, 'fontweight': 'bold', 'family': 'Arial'})\n",
    "plt.tick_params(axis='both', which='both', length=8, width=3, labelsize=18)\n",
    "for spine in ['left', 'bottom']:\n",
    "    plt.gca().spines[spine].set_linewidth(3)\n",
    "plt.gca().spines['top'].set_visible(False)\n",
    "plt.gca().spines['right'].set_visible(False)\n",
    "plt.ylim(0)\n",
    "plt.xlim(0)\n",
    "plt.xticks(fontweight='bold', family='Arial')\n",
    "plt.yticks(fontweight='bold', family='Arial')\n",
    "\n",
    "# Show the figure and save the picture\n",
    "plt.savefig('Survival_proportions_graph.tif', dpi=600, format='tif', bbox_inches='tight')\n",
    "plt.show()"
   ]
  },
  {
   "cell_type": "markdown",
   "metadata": {},
   "source": [
    "### 3. Combining Tumor Volume and Survival Proportions Figures\n",
    "In this section, we combine the tumor volume graph and survival proportions graph into a single figure. This allows us to display both the tumor volume data and the Kaplan-Meier survival analysis side by side, making it easier to compare the results visually."
   ]
  },
  {
   "cell_type": "code",
   "execution_count": null,
   "metadata": {},
   "outputs": [],
   "source": [
    "# Load the saved figures\n",
    "tumor_volume_ax = plt.imread('Tumor_volume_graph.tif')\n",
    "survival_analysis_ax = plt.imread('Survival_proportions_graph.tif')\n",
    "\n",
    "# Create a list to store Line2D objects for the legend\n",
    "legend_elements = []\n",
    "\n",
    "# Add elements to the legend for the tumor volume graph\n",
    "groups = df_sf['Groups'].unique()\n",
    "for i, group in enumerate(groups):\n",
    "    legend_elements.append(plt.Line2D([0], [0], color=colors[i], lw=4, label=f\"{group}\"))\n",
    "\n",
    "# Combine the plots\n",
    "fig, axes = plt.subplots(nrows=1, ncols=2, figsize=(17, 7))\n",
    "\n",
    "# Display the images on the subplots\n",
    "axes[0].imshow(tumor_volume_ax)\n",
    "axes[1].imshow(survival_analysis_ax)\n",
    "\n",
    "for ax in axes:\n",
    "    ax.axis('off')\n",
    "plt.subplots_adjust(wspace=0.05)\n",
    "fig.legend(handles=legend_elements, loc='lower center', ncol=4, fontsize='large', frameon=False)\n",
    "\n",
    "# Save the combined figure\n",
    "plt.savefig('Tumor_volume_and_survival_proportions.tif', dpi=600, format='tif', bbox_inches='tight', facecolor='white')\n",
    "plt.show()"
   ]
  }
 ],
 "metadata": {
  "kernelspec": {
   "display_name": "Python 3",
   "language": "python",
   "name": "python3"
  },
  "language_info": {
   "codemirror_mode": {
    "name": "ipython",
    "version": 3
   },
   "file_extension": ".py",
   "mimetype": "text/x-python",
   "name": "python",
   "nbconvert_exporter": "python",
   "pygments_lexer": "ipython3",
   "version": "3.11.7"
  }
 },
 "nbformat": 4,
 "nbformat_minor": 2
}
