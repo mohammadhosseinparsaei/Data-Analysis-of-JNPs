{
 "cells": [
  {
   "cell_type": "code",
   "execution_count": null,
   "metadata": {},
   "outputs": [],
   "source": [
    "import pandas as pd\n",
    "import matplotlib.pyplot as plt\n",
    "\n",
    "df = pd.read_csv(\"uv.csv\")\n",
    "\n",
    "tick_fontsize = 16\n",
    "label_fontsize = 16\n",
    "label_fontweight = 'bold'\n",
    "axis_linewidth = 2\n",
    "tick_width = 2\n",
    "tick_length = 10\n",
    "\n",
    "fig, ax = plt.subplots(figsize=(8, 5))\n",
    "ax.plot(df[\"NANOMETERS\"], df[\"ABSORBANCE\"], color='blue', linewidth=3)\n",
    "\n",
    "ax.set_xlabel(\"Wavelength (nm)\", fontsize=label_fontsize, fontweight=label_fontweight)\n",
    "ax.set_ylabel(\"Absorbance\", fontsize=label_fontsize, fontweight=label_fontweight)\n",
    "\n",
    "ax.tick_params(axis='both', which='major',\n",
    "               labelsize=tick_fontsize,\n",
    "               width=tick_width,\n",
    "               length=tick_length)\n",
    "for label in ax.get_xticklabels() + ax.get_yticklabels():\n",
    "    label.set_fontweight('bold')\n",
    "\n",
    "ax.spines['bottom'].set_linewidth(axis_linewidth)\n",
    "ax.spines['left'].set_linewidth(axis_linewidth)\n",
    "ax.spines['top'].set_visible(False)\n",
    "ax.spines['right'].set_visible(False)\n",
    "\n",
    "plt.tight_layout()\n",
    "plt.savefig(\"uv_spectrum.tiff\", dpi=600, bbox_inches='tight')\n",
    "plt.show()\n"
   ]
  }
 ],
 "metadata": {
  "kernelspec": {
   "display_name": "Python 3",
   "language": "python",
   "name": "python3"
  },
  "language_info": {
   "codemirror_mode": {
    "name": "ipython",
    "version": 3
   },
   "file_extension": ".py",
   "mimetype": "text/x-python",
   "name": "python",
   "nbconvert_exporter": "python",
   "pygments_lexer": "ipython3",
   "version": "3.11.7"
  }
 },
 "nbformat": 4,
 "nbformat_minor": 2
}
